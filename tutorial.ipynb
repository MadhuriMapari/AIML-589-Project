{
 "cells": [
  {
   "cell_type": "markdown",
   "source": [
    "## Tree GP"
   ],
   "metadata": {}
  },
  {
   "cell_type": "code",
   "execution_count": null,
   "outputs": [],
   "source": [],
   "metadata": {
    "collapsed": false
   }
  },
  {
   "cell_type": "code",
   "execution_count": 31,
   "source": [
    "import pickle\n",
    "import yaml\n",
    "from experiments import gp  as gp_script\n",
    "\n",
    "if not \"conf_gp\" in globals():#test if every thing is loaded to not load it twice\n",
    "    with open(\"results/log-BipedalWalker-v3-conf_sqdgp-BipedalWalker--2023-03-01-15_43_08/conf.yml\") as f:#load the conf associated to the experiments (for env input, output and pset initialization)\n",
    "        conf_gp = yaml.load(f, Loader=yaml.SafeLoader)\n",
    "\n",
    "    gp_script.Factory(conf_gp[\"params\"]).init_global_var()\n",
    "\n",
    "with open(\"results/log-BipedalWalker-v3-conf_sqdgp-BipedalWalker--2023-03-01-15_43_08\\hof-final.pkl\", \"rb\") as input_file:\n",
    "    hof = pickle.load(input_file)\n",
    "print(len(hof))\n",
    "best = hof[0] \n",
    "\n",
    "for k, tree in enumerate(best):\n",
    "    print(\"OUTPUT:\", str(k+1), tree)\n",
    "print(best.fitness.values, len(best.fitness.rewards))"
   ],
   "outputs": [
    {
     "ename": "AttributeError",
     "evalue": "Can't get attribute 'Individual' on <module 'deap.creator' from 'c:\\\\python39\\\\lib\\\\site-packages\\\\deap\\\\creator.py'>",
     "output_type": "error",
     "traceback": [
      "\u001B[1;31m---------------------------------------------------------------------------\u001B[0m",
      "\u001B[1;31mAttributeError\u001B[0m                            Traceback (most recent call last)",
      "Cell \u001B[1;32mIn[31], line 12\u001B[0m\n\u001B[0;32m      9\u001B[0m     gp_script\u001B[38;5;241m.\u001B[39mFactory(conf_gp[\u001B[38;5;124m\"\u001B[39m\u001B[38;5;124mparams\u001B[39m\u001B[38;5;124m\"\u001B[39m])\u001B[38;5;241m.\u001B[39minit_global_var()\n\u001B[0;32m     11\u001B[0m \u001B[38;5;28;01mwith\u001B[39;00m \u001B[38;5;28mopen\u001B[39m(\u001B[38;5;124m\"\u001B[39m\u001B[38;5;124mresults/log-BipedalWalker-v3-conf_sqdgp-BipedalWalker--2023-03-01-15_43_08\u001B[39m\u001B[38;5;124m\\\u001B[39m\u001B[38;5;124mhof-final.pkl\u001B[39m\u001B[38;5;124m\"\u001B[39m, \u001B[38;5;124m\"\u001B[39m\u001B[38;5;124mrb\u001B[39m\u001B[38;5;124m\"\u001B[39m) \u001B[38;5;28;01mas\u001B[39;00m input_file:\n\u001B[1;32m---> 12\u001B[0m     hof \u001B[38;5;241m=\u001B[39m \u001B[43mpickle\u001B[49m\u001B[38;5;241;43m.\u001B[39;49m\u001B[43mload\u001B[49m\u001B[43m(\u001B[49m\u001B[43minput_file\u001B[49m\u001B[43m)\u001B[49m\n\u001B[0;32m     13\u001B[0m \u001B[38;5;28mprint\u001B[39m(\u001B[38;5;28mlen\u001B[39m(hof))\n\u001B[0;32m     14\u001B[0m best \u001B[38;5;241m=\u001B[39m hof[\u001B[38;5;241m0\u001B[39m] \n",
      "\u001B[1;31mAttributeError\u001B[0m: Can't get attribute 'Individual' on <module 'deap.creator' from 'c:\\\\python39\\\\lib\\\\site-packages\\\\deap\\\\creator.py'>"
     ]
    }
   ],
   "metadata": {}
  },
  {
   "cell_type": "markdown",
   "source": [
    "### See agent Behavior"
   ],
   "metadata": {}
  },
  {
   "cell_type": "code",
   "execution_count": 23,
   "outputs": [
    {
     "name": "stdout",
     "output_type": "stream",
     "text": [
      "@@@@@@@@@@@ shell: True\n",
      "Requirement already satisfied: deap in c:\\python39\\lib\\site-packages (1.3.1)\n"
     ]
    },
    {
     "name": "stderr",
     "output_type": "stream",
     "text": [
      "WARNING: Ignoring invalid distribution -illow (c:\\python39\\lib\\site-packages)\n",
      "WARNING: Ignoring invalid distribution -illow (c:\\python39\\lib\\site-packages)\n",
      "ERROR: Could not find a version that satisfies the requirement 1.3.1 (from versions: none)\n",
      "ERROR: No matching distribution found for 1.3.1\n",
      "WARNING: Ignoring invalid distribution -illow (c:\\python39\\lib\\site-packages)\n",
      "WARNING: Ignoring invalid distribution -illow (c:\\python39\\lib\\site-packages)\n",
      "WARNING: Ignoring invalid distribution -illow (c:\\python39\\lib\\site-packages)\n"
     ]
    }
   ],
   "source": [
    "!pip install deap\n"
   ],
   "metadata": {
    "collapsed": false
   }
  },
  {
   "cell_type": "code",
   "execution_count": 6,
   "source": [
    "from GPRL.utils import gp_utils\n",
    "from GPRL.genetic_programming import team\n",
    "gp_script.ENV = gp_script.gym.make(conf_gp[\"params\"][\"env\"])\n",
    "s = 0\n",
    "if gp_script.ENV.action_space.shape:\n",
    "\n",
    "    agent = gp_script.toolbox.compile(best)\n",
    "else:\n",
    "    func = gp_script.toolbox.compile(best)\n",
    "    agent = lambda * s : int(func(*s)[0])\n",
    "print(best.fitness.values, len(best.fitness.rewards))\n",
    "print(\"Agent\",agent)\n",
    "steps = 0\n",
    "gp_script.ENV.reset()\n",
    "gp_script.ENV.render()\n",
    "state = gp_script.ENV.reset()\n",
    "for k in range(2000):\n",
    "    state, reward, done, _ = gp_script.ENV.step(agent(*state))\n",
    "    gp_script.ENV.render()\n",
    "    s+= reward\n",
    "    steps += 1\n",
    "    if done:\n",
    "        break\n",
    "\n",
    "print(\"End! cumulative rewards:\", s, \" Done?\", done, \" nb_steps:\", k)\n",
    "gp_script.ENV.close()"
   ],
   "outputs": [
    {
     "name": "stdout",
     "output_type": "stream",
     "text": [
      "(319.791614310743,) 0\n",
      "Agent <function team_compile.<locals>.func at 0x000001599A386700>\n",
      "End! cumulative rewards: 317.6686715267835  Done? True  nb_steps: 1275\n"
     ]
    }
   ],
   "metadata": {}
  },
  {
   "cell_type": "markdown",
   "source": [
    "### Tree GP Graph"
   ],
   "metadata": {}
  },
  {
   "cell_type": "code",
   "execution_count": 16,
   "outputs": [
    {
     "name": "stdout",
     "output_type": "stream",
     "text": [
      "@@@@@@@@@@@ shell: False\n",
      "@@@@@@@@@@@ shell: False\n"
     ]
    }
   ],
   "source": [
    "import numpy as np\n",
    "from deap import gp\n",
    "import pygraphviz as pgv\n",
    "\n",
    "offset = 0\n",
    "n = []\n",
    "e = []\n",
    "l = {}\n",
    "for tree in best:#multi-output support\n",
    "    expr = tree\n",
    "    nodes, edges, labels = gp.graph(expr)\n",
    "    n += list(np.array(nodes)+offset)\n",
    "    e += map(tuple, list(np.array(edges)+offset))\n",
    "    for key in list(labels.keys()):\n",
    "        l[key+offset] = labels[key]\n",
    "    offset += np.max(nodes)+1\n",
    "nodes = n\n",
    "edges = e\n",
    "labels = l\n",
    "\n",
    "g = pgv.AGraph()\n",
    "g.add_nodes_from(nodes)\n",
    "g.add_edges_from(edges)\n",
    "g.layout(prog=\"dot\")\n",
    "\n",
    "for i in nodes:\n",
    "    n = g.get_node(i)\n",
    "    n.attr[\"label\"] = labels[i]\n",
    "\n",
    "g.draw(\"img/Tree-GP3.png\", prog=\"dot\")"
   ],
   "metadata": {
    "collapsed": false
   }
  },
  {
   "cell_type": "code",
   "execution_count": 4,
   "outputs": [],
   "source": [
    "#!pip install --global-option=build_ext --global-option=\"-IC:\\Program Files\\Graphviz\\include\" --global-option=\"-LC:\\Program Files\\Graphviz\\lib\" pygraphviz\n"
   ],
   "metadata": {
    "collapsed": false
   }
  },
  {
   "cell_type": "markdown",
   "source": [
    "![title](img/Tree-GP2.png)"
   ],
   "metadata": {}
  },
  {
   "cell_type": "code",
   "execution_count": null,
   "outputs": [],
   "source": [],
   "metadata": {
    "collapsed": false
   }
  },
  {
   "cell_type": "markdown",
   "source": [
    "## Linear GP"
   ],
   "metadata": {}
  },
  {
   "cell_type": "code",
   "execution_count": 3,
   "outputs": [
    {
     "data": {
      "text/plain": "[4, 4, 4, 4]"
     },
     "execution_count": 3,
     "metadata": {},
     "output_type": "execute_result"
    }
   ],
   "source": [
    "#[lambda:print(\"testing\") for _ in range(3)]#[0]\n",
    "\n",
    "def init_team(size, unit_init):\n",
    "    team = [unit_init(2) for _ in range(size)]\n",
    "    return team\n",
    "\n",
    "init_team(4,lambda x:x+x)"
   ],
   "metadata": {
    "collapsed": false
   }
  },
  {
   "cell_type": "code",
   "execution_count": 6,
   "source": [
    "import pickle\n",
    "import yaml\n",
    "from experiments import linGP as linGP_script\n",
    "\n",
    "if not \"conf_lingp\" in globals():#test if every thing is loaded to not load it twice\n",
    "    with open(\"results/log-MountainCarContinuous-v0-conf_lingp-1631701228.1234944\\conf.yml\") as f:#load the conf associated to the experiments (for env input, output and pset initialization)\n",
    "        conf_lingp = yaml.load(f, Loader=yaml.SafeLoader)\n",
    "\n",
    "    linGP_script.Factory(conf_lingp[\"params\"]).init_global_var()# gives Warning from creator of gp_script\n",
    "\n",
    "with open(\"results\\log-MountainCarContinuous-v0-conf_lingp-1631701228.1234944\\hof-final.pkl\", \"rb\") as input_file:\n",
    "    hof = pickle.load(input_file)\n",
    "print(len(hof))\n",
    "best = hof[-1]\n",
    "print(best.to_effective(list(range(linGP_script.OUTPUT)))[0], best.fitness.values, len(best.fitness.rewards))"
   ],
   "outputs": [
    {
     "name": "stdout",
     "output_type": "stream",
     "text": [
      "10\n",
      "   op dst inpt1 inpt2\n",
      "0 + 0 1 14\n",
      "1 * 0 5 0\n",
      " (98.78012634838458, 2.0) 0\n"
     ]
    },
    {
     "name": "stderr",
     "output_type": "stream",
     "text": [
      "c:\\python39\\lib\\site-packages\\deap\\creator.py:138: RuntimeWarning: A class named 'FitnessMax' has already been created and it will be overwritten. Consider deleting previous creation of that class or rename it.\n",
      "  warnings.warn(\"A class named '{0}' has already been created and it \"\n",
      "c:\\python39\\lib\\site-packages\\deap\\creator.py:138: RuntimeWarning: A class named 'Individual' has already been created and it will be overwritten. Consider deleting previous creation of that class or rename it.\n",
      "  warnings.warn(\"A class named '{0}' has already been created and it \"\n"
     ]
    }
   ],
   "metadata": {}
  },
  {
   "cell_type": "markdown",
   "source": [
    "### See agent behavior"
   ],
   "metadata": {}
  },
  {
   "cell_type": "code",
   "execution_count": 5,
   "source": [
    "linGP_script.ENV = linGP_script.gym.make(conf_lingp[\"params\"][\"env\"])\n",
    "\n",
    "### Define agent according to the environment\n",
    "eff, _, _ = best.to_effective(list(range(linGP_script.OUTPUT)))\n",
    "if linGP_script.ENV.action_space.shape:\n",
    "    def agent(inputs):\n",
    "        register = eff.init_register()\n",
    "        return eff.execute(eff, inputs, register, list(range(linGP_script.OUTPUT)))\n",
    "else:\n",
    "    if linGP_script.OUTPUT==1:\n",
    "        def agent(inputs):\n",
    "            register = eff.init_register()\n",
    "            return int(eff.execute(eff, inputs, register, list(range(linGP_script.OUTPUT)))>0)\n",
    "    else:\n",
    "        def agent(inputs):\n",
    "            register = eff.init_register()\n",
    "            return np.argmax(eff.execute(eff, inputs, register, list(range(linGP_script.OUTPUT))))\n",
    "s = 0\n",
    "steps = 0\n",
    "linGP_script.ENV.reset()\n",
    "linGP_script.ENV.render()\n",
    "\n",
    "state = linGP_script.ENV.reset()\n",
    "for k in range(2000):\n",
    "    state, reward, done, _ = linGP_script.ENV.step(agent(state))\n",
    "    linGP_script.ENV.render()\n",
    "    s+= reward\n",
    "    steps += 1\n",
    "    if done:\n",
    "        break\n",
    "print(\"End! cumulative rewards:\", s, \" Done?\", done, \" nb_steps:\", k)\n",
    "linGP_script.ENV.close()"
   ],
   "outputs": [
    {
     "ename": "AttributeError",
     "evalue": "'tuple' object has no attribute 'ndim'",
     "output_type": "error",
     "traceback": [
      "\u001B[1;31m---------------------------------------------------------------------------\u001B[0m",
      "\u001B[1;31mAttributeError\u001B[0m                            Traceback (most recent call last)",
      "Cell \u001B[1;32mIn[5], line 25\u001B[0m\n\u001B[0;32m     23\u001B[0m state \u001B[38;5;241m=\u001B[39m linGP_script\u001B[38;5;241m.\u001B[39mENV\u001B[38;5;241m.\u001B[39mreset()\n\u001B[0;32m     24\u001B[0m \u001B[38;5;28;01mfor\u001B[39;00m k \u001B[38;5;129;01min\u001B[39;00m \u001B[38;5;28mrange\u001B[39m(\u001B[38;5;241m2000\u001B[39m):\n\u001B[1;32m---> 25\u001B[0m     state, reward, done, _ \u001B[38;5;241m=\u001B[39m linGP_script\u001B[38;5;241m.\u001B[39mENV\u001B[38;5;241m.\u001B[39mstep(\u001B[43magent\u001B[49m\u001B[43m(\u001B[49m\u001B[43mstate\u001B[49m\u001B[43m)\u001B[49m)\n\u001B[0;32m     26\u001B[0m     linGP_script\u001B[38;5;241m.\u001B[39mENV\u001B[38;5;241m.\u001B[39mrender()\n\u001B[0;32m     27\u001B[0m     s\u001B[38;5;241m+\u001B[39m\u001B[38;5;241m=\u001B[39m reward\n",
      "Cell \u001B[1;32mIn[5], line 8\u001B[0m, in \u001B[0;36magent\u001B[1;34m(inputs)\u001B[0m\n\u001B[0;32m      6\u001B[0m \u001B[38;5;28;01mdef\u001B[39;00m \u001B[38;5;21magent\u001B[39m(inputs):\n\u001B[0;32m      7\u001B[0m     register \u001B[38;5;241m=\u001B[39m eff\u001B[38;5;241m.\u001B[39minit_register()\n\u001B[1;32m----> 8\u001B[0m     \u001B[38;5;28;01mreturn\u001B[39;00m \u001B[43meff\u001B[49m\u001B[38;5;241;43m.\u001B[39;49m\u001B[43mexecute\u001B[49m\u001B[43m(\u001B[49m\u001B[43meff\u001B[49m\u001B[43m,\u001B[49m\u001B[43m \u001B[49m\u001B[43minputs\u001B[49m\u001B[43m,\u001B[49m\u001B[43m \u001B[49m\u001B[43mregister\u001B[49m\u001B[43m,\u001B[49m\u001B[43m \u001B[49m\u001B[38;5;28;43mlist\u001B[39;49m\u001B[43m(\u001B[49m\u001B[38;5;28;43mrange\u001B[39;49m\u001B[43m(\u001B[49m\u001B[43mlinGP_script\u001B[49m\u001B[38;5;241;43m.\u001B[39;49m\u001B[43mOUTPUT\u001B[49m\u001B[43m)\u001B[49m\u001B[43m)\u001B[49m\u001B[43m)\u001B[49m\n",
      "File \u001B[1;32mD:\\MAI\\AIML589\\gpxrl-master\\GPRL\\genetic_programming\\linearGP.py:290\u001B[0m, in \u001B[0;36mProgram.execute\u001B[1;34m(program, inputs, register, outputIdxs)\u001B[0m\n\u001B[0;32m    288\u001B[0m \u001B[38;5;129m@staticmethod\u001B[39m\n\u001B[0;32m    289\u001B[0m \u001B[38;5;28;01mdef\u001B[39;00m \u001B[38;5;21mexecute\u001B[39m(program, inputs, register, outputIdxs):\n\u001B[1;32m--> 290\u001B[0m     \u001B[38;5;28;01mif\u001B[39;00m \u001B[43minputs\u001B[49m\u001B[38;5;241;43m.\u001B[39;49m\u001B[43mndim\u001B[49m \u001B[38;5;241m==\u001B[39m \u001B[38;5;241m1\u001B[39m:\n\u001B[0;32m    291\u001B[0m         \u001B[38;5;28;01massert\u001B[39;00m inputs\u001B[38;5;241m.\u001B[39msize \u001B[38;5;241m==\u001B[39m program\u001B[38;5;241m.\u001B[39mregInputSize\n\u001B[0;32m    292\u001B[0m         register[program\u001B[38;5;241m.\u001B[39mregCalcSize:program\u001B[38;5;241m.\u001B[39mregCalcSize\u001B[38;5;241m+\u001B[39minputs\u001B[38;5;241m.\u001B[39mshape[\u001B[38;5;241m0\u001B[39m]] \u001B[38;5;241m=\u001B[39m inputs\u001B[38;5;241m.\u001B[39mcopy()\n",
      "\u001B[1;31mAttributeError\u001B[0m: 'tuple' object has no attribute 'ndim'"
     ]
    }
   ],
   "metadata": {}
  },
  {
   "cell_type": "markdown",
   "source": [
    "### Linear GP plot as graph"
   ],
   "metadata": {}
  },
  {
   "cell_type": "code",
   "execution_count": 6,
   "outputs": [],
   "source": [
    "import pygraphviz as pgv"
   ],
   "metadata": {
    "collapsed": false
   }
  },
  {
   "cell_type": "code",
   "execution_count": 8,
   "source": [
    "from GPRL.genetic_programming.linearGP import graph\n",
    "import pygraphviz as pgv\n",
    "\n",
    "####Give a default name to terminals\n",
    "register = best.init_register()\n",
    "terminals_name = [str(round(register[k],2)) for k in range(len(register))]\n",
    "args = [\"ARG\"+str(k) for k in range(linGP_script.INPUT)]\n",
    "terminals_name[best.regCalcSize:best.regCalcSize+best.regInputSize] = args\n",
    "\n",
    "### Graph attributs\n",
    "nodes, edges, labels, branch_edges = graph(best, list(range(linGP_script.OUTPUT)), debug=False, terminals_name=terminals_name)\n",
    "\n",
    "g = pgv.AGraph(directed=True)\n",
    "g.add_nodes_from(nodes)\n",
    "g.add_edges_from(edges)\n",
    "g.add_edges_from(branch_edges, style=\"dashed\")\n",
    "g.layout(prog=\"dot\")\n",
    "\n",
    "for i in nodes:\n",
    "    n = g.get_node(i)\n",
    "    n.attr[\"label\"] = labels[i]\n",
    "\n",
    "g.draw(\"img/Linear-GP1.png\", prog=\"dot\")"
   ],
   "outputs": [],
   "metadata": {}
  },
  {
   "cell_type": "markdown",
   "source": [
    "![title](img/Linear-GP1.png)"
   ],
   "metadata": {}
  },
  {
   "cell_type": "code",
   "execution_count": null,
   "outputs": [],
   "source": [],
   "metadata": {
    "collapsed": false
   }
  }
 ],
 "metadata": {
  "orig_nbformat": 4,
  "language_info": {
   "name": "python",
   "version": "3.8.5",
   "mimetype": "text/x-python",
   "codemirror_mode": {
    "name": "ipython",
    "version": 3
   },
   "pygments_lexer": "ipython3",
   "nbconvert_exporter": "python",
   "file_extension": ".py"
  },
  "kernelspec": {
   "name": "python3",
   "display_name": "Python 3.8.5 64-bit ('ML': conda)"
  },
  "interpreter": {
   "hash": "561162cfaa0eace6a18a123654cd15a5f7ece9700d6ab1f62f4b2474ddafece3"
  }
 },
 "nbformat": 4,
 "nbformat_minor": 2
}
